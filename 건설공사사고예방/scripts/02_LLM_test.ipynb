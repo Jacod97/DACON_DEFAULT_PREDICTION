{
 "cells": [
  {
   "cell_type": "code",
   "execution_count": null,
   "metadata": {},
   "outputs": [],
   "source": [
    "from huggingface_hub import HfApi\n",
    "\n",
    "# API 인스턴스 생성\n",
    "api = HfApi()\n",
    "\n",
    "# 모델 검색 (예: 'deepseek' 관련 모델 찾기)\n",
    "models = api.list_models(search=\"deepseek\", limit=10)\n",
    "\n",
    "# 결과 출력\n",
    "for model in models:\n",
    "    print(model.modelId)"
   ]
  },
  {
   "cell_type": "code",
   "execution_count": null,
   "metadata": {},
   "outputs": [],
   "source": []
  }
 ],
 "metadata": {
  "kernelspec": {
   "display_name": "deeplearning",
   "language": "python",
   "name": "python3"
  },
  "language_info": {
   "name": "python",
   "version": "3.11.11"
  }
 },
 "nbformat": 4,
 "nbformat_minor": 2
}
